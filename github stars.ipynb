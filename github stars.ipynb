{
 "cells": [
  {
   "cell_type": "markdown",
   "id": "f8223309-5f0e-4c4a-8890-085dc6b08647",
   "metadata": {},
   "source": [
    "Code from ChatGPT-o1"
   ]
  },
  {
   "cell_type": "code",
   "execution_count": 1,
   "id": "8fc449cd-0aab-4007-9f3e-7d83b2c55c04",
   "metadata": {},
   "outputs": [
    {
     "name": "stdout",
     "output_type": "stream",
     "text": [
      "                                              url      owner  \\\n",
      "0              https://github.com/scverse/anndata    scverse   \n",
      "1                 https://github.com/scverse/muon    scverse   \n",
      "2               https://github.com/scverse/mudata    scverse   \n",
      "3              https://github.com/scverse/Muon.jl    scverse   \n",
      "4             https://github.com/ilia-kats/MuData  ilia-kats   \n",
      "5          https://github.com/scverse/spatialdata    scverse   \n",
      "6       https://github.com/scverse/spatialdata-io    scverse   \n",
      "7     https://github.com/scverse/spatialdata-plot    scverse   \n",
      "8   https://github.com/scverse/napari-spatialdata    scverse   \n",
      "9               https://github.com/scverse/scanpy    scverse   \n",
      "10   https://github.com/scverse/rapids_singlecell    scverse   \n",
      "11                https://github.com/scverse/muon    scverse   \n",
      "12          https://github.com/scverse/scvi-tools    scverse   \n",
      "13              https://github.com/scverse/scirpy    scverse   \n",
      "14             https://github.com/scverse/squidpy    scverse   \n",
      "\n",
      "                  repo  stars  \n",
      "0              anndata    566  \n",
      "1                 muon    209  \n",
      "2               mudata     75  \n",
      "3              Muon.jl     26  \n",
      "4               MuData      4  \n",
      "5          spatialdata    223  \n",
      "6       spatialdata-io     37  \n",
      "7     spatialdata-plot     29  \n",
      "8   napari-spatialdata     37  \n",
      "9               scanpy   1873  \n",
      "10   rapids_singlecell    140  \n",
      "11                muon    209  \n",
      "12          scvi-tools   1209  \n",
      "13              scirpy    216  \n",
      "14             squidpy    428  \n"
     ]
    }
   ],
   "source": [
    "import requests\n",
    "import pandas as pd\n",
    "\n",
    "# List of GitHub repository URLs\n",
    "urls = [\n",
    "    'https://github.com/scverse/anndata',\n",
    "    'https://github.com/scverse/muon',\n",
    "    'https://github.com/scverse/mudata',\n",
    "    'https://github.com/scverse/Muon.jl',\n",
    "    'https://github.com/ilia-kats/MuData',\n",
    "    'https://github.com/scverse/spatialdata',\n",
    "    'https://github.com/scverse/spatialdata-io',\n",
    "    'https://github.com/scverse/spatialdata-plot',\n",
    "    'https://github.com/scverse/napari-spatialdata',\n",
    "    'https://github.com/scverse/scanpy',\n",
    "    'https://github.com/scverse/rapids_singlecell',\n",
    "    'https://github.com/scverse/muon',\n",
    "    'https://github.com/scverse/scvi-tools',\n",
    "    'https://github.com/scverse/scirpy',\n",
    "    'https://github.com/scverse/squidpy'\n",
    "    # Excluded the organization URL as it's not a repository\n",
    "]\n",
    "\n",
    "def get_repo_info(url):\n",
    "    # Parse the owner and repository name from the URL\n",
    "    parts = url.strip('/').split('/')\n",
    "    if len(parts) >= 2:\n",
    "        owner = parts[-2]\n",
    "        repo = parts[-1]\n",
    "    else:\n",
    "        return None  # Invalid repository URL\n",
    "\n",
    "    # GitHub API URL for repository information\n",
    "    api_url = f'https://api.github.com/repos/{owner}/{repo}'\n",
    "\n",
    "    # Send GET request to the GitHub API\n",
    "    response = requests.get(api_url)\n",
    "    if response.status_code != 200:\n",
    "        print(f\"Failed to fetch data for {url}\")\n",
    "        return None\n",
    "\n",
    "    # Parse JSON response\n",
    "    data = response.json()\n",
    "    stars = data.get('stargazers_count', 0)\n",
    "\n",
    "    return {\n",
    "        'url': url,\n",
    "        'owner': owner,\n",
    "        'repo': repo,\n",
    "        'stars': stars\n",
    "    }\n",
    "\n",
    "# Collect data for each repository\n",
    "data_list = []\n",
    "for url in urls:\n",
    "    repo_data = get_repo_info(url)\n",
    "    if repo_data:\n",
    "        data_list.append(repo_data)\n",
    "\n",
    "# Create a DataFrame from the collected data\n",
    "df = pd.DataFrame(data_list)\n",
    "print(df)"
   ]
  },
  {
   "cell_type": "code",
   "execution_count": 2,
   "id": "af32ecff-e57b-4b02-b4a1-333a94d54582",
   "metadata": {},
   "outputs": [
    {
     "data": {
      "text/plain": [
       "5281"
      ]
     },
     "execution_count": 2,
     "metadata": {},
     "output_type": "execute_result"
    }
   ],
   "source": [
    "df.stars.sum()"
   ]
  }
 ],
 "metadata": {
  "kernelspec": {
   "display_name": "Python 3 (ipykernel)",
   "language": "python",
   "name": "python3"
  },
  "language_info": {
   "codemirror_mode": {
    "name": "ipython",
    "version": 3
   },
   "file_extension": ".py",
   "mimetype": "text/x-python",
   "name": "python",
   "nbconvert_exporter": "python",
   "pygments_lexer": "ipython3",
   "version": "3.10.14"
  }
 },
 "nbformat": 4,
 "nbformat_minor": 5
}
